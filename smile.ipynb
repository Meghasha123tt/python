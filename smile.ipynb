{
 "cells": [
  {
   "cell_type": "code",
   "execution_count": 1,
   "metadata": {},
   "outputs": [],
   "source": [
    "import cv2\n",
    "import numpy as np\n",
    "import matplotlib.pyplot as plt\n",
    "from time import sleep\n",
    "\n",
    "fd=cv2.CascadeClassifier(cv2.data.haarcascades+'haarcascade_frontalface_default.xml')\n",
    "sd=cv2.CascadeClassifier(cv2.data.haarcascades+'haarcascade_smile.xml')\n",
    "vid=cv2.VideoCapture(0)\n",
    "notCaptured=True\n",
    "seq=0\n",
    "while notCaptured:\n",
    "    flag,img=vid.read()\n",
    "    if flag:\n",
    "         img_gray=cv2.cvtColor(img,cv2.COLOR_BGR2GRAY)\n",
    "         faces=fd.detectMultiScale(img_gray,1.1,5)\n",
    "         \n",
    "         np.random.seed(50)\n",
    "         colors=np.random.randint(0,255,(len(faces),3)).tolist()\n",
    "         i=0\n",
    "         for x,y,w,h in faces:\n",
    "          face=img_gray[y:y+h,x:x+w].copy()\n",
    "         \n",
    "          smiles=sd.detectMultiScale(img_gray,1.1,5,minSize=(50,50))\n",
    "          if len(smiles)==1:\n",
    "              seq+=1\n",
    "              if seq==10:\n",
    "                cv2.imwrite('newimg.png',img)\n",
    "                notCaptured=False\n",
    "                break\n",
    "          else:\n",
    "              seq=0\n",
    "          cv2.rectangle(img,pt1=(x,y),pt2=(x+w,y+h),color=colors[i],thickness=2)\n",
    "          i+=1\n",
    "         \n",
    "         cv2.imshow('Preview',img)\n",
    "         key=cv2.waitKey(1)\n",
    "         if key==ord('a'):\n",
    "              break\n",
    "    else:\n",
    "         print('No frames')\n",
    "         break\n",
    "    sleep(0.1)\n",
    "\n",
    "cv2.destroyAllWindows()\n",
    "vid.release()"
   ]
  }
 ],
 "metadata": {
  "kernelspec": {
   "display_name": "Python 3",
   "language": "python",
   "name": "python3"
  },
  "language_info": {
   "codemirror_mode": {
    "name": "ipython",
    "version": 3
   },
   "file_extension": ".py",
   "mimetype": "text/x-python",
   "name": "python",
   "nbconvert_exporter": "python",
   "pygments_lexer": "ipython3",
   "version": "3.10.11"
  },
  "orig_nbformat": 4
 },
 "nbformat": 4,
 "nbformat_minor": 2
}
