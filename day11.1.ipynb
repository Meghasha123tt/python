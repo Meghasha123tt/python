{
 "cells": [
  {
   "cell_type": "code",
   "execution_count": 1,
   "metadata": {},
   "outputs": [],
   "source": [
    "import cv2\n",
    "\n",
    "import matplotlib.pyplot as plt"
   ]
  },
  {
   "cell_type": "code",
   "execution_count": 2,
   "metadata": {},
   "outputs": [],
   "source": [
    "vid=cv2.VideoCapture(0)"
   ]
  },
  {
   "cell_type": "code",
   "execution_count": 6,
   "metadata": {},
   "outputs": [
    {
     "data": {
      "text/plain": [
       "True"
      ]
     },
     "execution_count": 6,
     "metadata": {},
     "output_type": "execute_result"
    }
   ],
   "source": [
    "vid.isOpened()"
   ]
  },
  {
   "cell_type": "code",
   "execution_count": 7,
   "metadata": {},
   "outputs": [],
   "source": [
    "flag, img=vid.read()"
   ]
  },
  {
   "cell_type": "code",
   "execution_count": 8,
   "metadata": {},
   "outputs": [],
   "source": [
    "for i in range(1000):\n",
    "    flag,img=vid.read()\n",
    "    if flag:\n",
    "         cv2.imshow('Preview',img)\n",
    "         cv2.waitKey(1)"
   ]
  },
  {
   "cell_type": "code",
   "execution_count": 9,
   "metadata": {},
   "outputs": [],
   "source": [
    "\n",
    "vid=cv2.VideoCapture(0)\n",
    "while True:\n",
    "    flag,img=vid.read()\n",
    "    if flag:\n",
    "         \n",
    "         cv2.imshow('Preview',img)\n",
    "         key=cv2.waitKey(1)\n",
    "         if key==ord('a'):\n",
    "              break\n",
    "    else:\n",
    "         break\n",
    "\n",
    "cv2.destroyAllWindows()\n",
    "cv2.waitKey(1)\n",
    "vid.release()\n"
   ]
  },
  {
   "cell_type": "code",
   "execution_count": 2,
   "metadata": {},
   "outputs": [],
   "source": [
    "import cv2\n",
    "\n",
    "import matplotlib.pyplot as plt\n",
    "from time import sleep\n",
    "vid=cv2.VideoCapture(0)\n",
    "fd=cv2.CascadeClassifier(cv2.data.haarcascades+'haarcascade_frontalface_default.xml')\n",
    "while True:\n",
    "    flag,img=vid.read()\n",
    "    if flag:\n",
    "         img_gray=cv2.cvtColor(img,cv2.COLOR_BGR2GRAY)\n",
    "         faces=fd.detectMultiScale(img_gray,1.1,5)\n",
    "       \n",
    "         for x,y,w,h in faces:\n",
    "        \n",
    "          cv2.rectangle(img,pt1=(x,y),pt2=(x+w,y+h),color=(0,0,255),thickness=2)\n",
    "        \n",
    "         cv2.imshow('Preview',img)\n",
    "         key=cv2.waitKey(1)\n",
    "         if key==ord('a'):\n",
    "              break\n",
    "    else:\n",
    "         print('No frames')\n",
    "         break\n",
    "    sleep(0.1)\n",
    "\n",
    "cv2.destroyAllWindows()\n",
    "vid.release()"
   ]
  }
 ],
 "metadata": {
  "kernelspec": {
   "display_name": "Python 3",
   "language": "python",
   "name": "python3"
  },
  "language_info": {
   "codemirror_mode": {
    "name": "ipython",
    "version": 3
   },
   "file_extension": ".py",
   "mimetype": "text/x-python",
   "name": "python",
   "nbconvert_exporter": "python",
   "pygments_lexer": "ipython3",
   "version": "3.10.11"
  },
  "orig_nbformat": 4
 },
 "nbformat": 4,
 "nbformat_minor": 2
}
